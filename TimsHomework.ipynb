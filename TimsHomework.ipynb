{
 "cells": [
  {
   "cell_type": "code",
   "execution_count": 3,
   "metadata": {},
   "outputs": [],
   "source": [
    "#Dependencies\n",
    "%matplotlib inline\n",
    "from matplotlib import style\n",
    "style.use('fivethirtyeight')\n",
    "import matplotlib.pyplot as plt\n",
    "\n",
    "import numpy as np\n",
    "import pandas as pd\n",
    "\n",
    "import datetime as dt"
   ]
  },
  {
   "cell_type": "markdown",
   "metadata": {},
   "source": [
    "# Reflect Tables into SQLAlchemy ORM"
   ]
  },
  {
   "cell_type": "code",
   "execution_count": 4,
   "metadata": {},
   "outputs": [],
   "source": [
    "# Python SQL toolkit and Object Relational Mapper\n",
    "import sqlalchemy\n",
    "from sqlalchemy.ext.automap import automap_base\n",
    "from sqlalchemy.orm import Session\n",
    "from sqlalchemy import create_engine, func"
   ]
  },
  {
   "cell_type": "code",
   "execution_count": 5,
   "metadata": {},
   "outputs": [],
   "source": [
    "engine = create_engine(\"sqlite:///Resources/hawaii.sqlite\")"
   ]
  },
  {
   "cell_type": "code",
   "execution_count": 6,
   "metadata": {},
   "outputs": [],
   "source": [
    "# reflect an existing database into a new model\n",
    "Base = automap_base()\n",
    "# reflect the tables\n",
    "Base.prepare(engine, reflect=True)"
   ]
  },
  {
   "cell_type": "code",
   "execution_count": 7,
   "metadata": {},
   "outputs": [
    {
     "data": {
      "text/plain": [
       "['measurement', 'station']"
      ]
     },
     "execution_count": 7,
     "metadata": {},
     "output_type": "execute_result"
    }
   ],
   "source": [
    "# We can view all of the classes that automap found\n",
    "Base.classes.keys()"
   ]
  },
  {
   "cell_type": "code",
   "execution_count": 8,
   "metadata": {},
   "outputs": [],
   "source": [
    "# Save references to each table\n",
    "Measurement = Base.classes.measurement\n",
    "Station = Base.classes.station"
   ]
  },
  {
   "cell_type": "code",
   "execution_count": 9,
   "metadata": {},
   "outputs": [],
   "source": [
    "# Create link from Python to DB\n",
    "session = Session(engine)"
   ]
  },
  {
   "cell_type": "markdown",
   "metadata": {},
   "source": [
    "# Exploratory Climate Analysis"
   ]
  },
  {
   "cell_type": "code",
   "execution_count": 10,
   "metadata": {},
   "outputs": [],
   "source": [
    "# Design a query to retrieve the last 12 months of precipitation data and plot the results\n",
    "\n",
    "# Calculate the date 1 year ago from the last data point in the database\n",
    "\n",
    "# Perform a query to retrieve the data and precipitation scores\n",
    "\n",
    "# Save the query results as a Pandas DataFrame and set the index to the date column\n",
    "\n",
    "# Sort the dataframe by date\n",
    "\n",
    "# Use Pandas Plotting with Matplotlib to plot the data"
   ]
  },
  {
   "cell_type": "code",
   "execution_count": 13,
   "metadata": {},
   "outputs": [
    {
     "data": {
      "image/png": "[encoded data removed]",
      "text/plain": [
       "<Figure size 432x288 with 1 Axes>"
      ]
     },
     "metadata": {},
     "output_type": "display_data"
    }
   ],
   "source": [
    "# Design a query to retrieve the last 12 months of precipitation data and plot the results\n",
    "\n",
    "precipatation = session.query(Measurement.prcp, Measurement.date).\\\n",
    "    filter(Measurement.date > '2016-08-23').\\\n",
    "    order_by(Measurement.date).all()\n",
    "\n",
    "df = pd.DataFrame(precipatation, columns=['Precipitation','Date'])\n",
    "df.set_index('Date', inplace=True, )\n",
    "# df.head(10)\n",
    "\n",
    "df.iloc[::-1].plot.line(title=\"When it Rains it Pours\")\n",
    "plt.xticks([])\n",
    "plt.tight_layout()\n",
    "plt.show()\n"
   ]
  },
  {
   "cell_type": "code",
   "execution_count": 17,
   "metadata": {},
   "outputs": [
    {
     "name": "stdout",
     "output_type": "stream",
     "text": [
      "Last date in Query:  ('2017-08-23',)\n",
      "One year Ago:  2016-08-23\n"
     ]
    }
   ],
   "source": [
    "# Calculate the date 1 year ago from the last data point in the database\n",
    "last_date = session.query(Measurement.date).order_by(Measurement.date.desc()).first()\n",
    "print(\"Last date in Query: \", last_date)\n",
    "\n",
    "year_ago = dt.date(2017,8,23) - dt.timedelta(days=365)\n",
    "print(\"One year Ago: \", year_ago)\n"
   ]
  },
  {
   "cell_type": "code",
   "execution_count": 18,
   "metadata": {},
   "outputs": [
    {
     "name": "stdout",
     "output_type": "stream",
     "text": [
      "[(0.08, '2016-08-24'), (2.15, '2016-08-24'), (2.28, '2016-08-24'), (None, '2016-08-24'), (1.22, '2016-08-24'), (2.15, '2016-08-24'), (1.45, '2016-08-24'), (0.08, '2016-08-25'), (0.08, '2016-08-25'), (0.0, '2016-08-25'), (0.0, '2016-08-25'), (0.21, '2016-08-25'), (0.06, '2016-08-25'), (0.11, '2016-08-25'), (0.0, '2016-08-26'), (0.03, '2016-08-26'), (0.02, '2016-08-26'), (0.04, '2016-08-26'), (0.0, '2016-08-26'), (0.01, '2016-08-26'), (0.0, '2016-08-27'), (0.18, '2016-08-27'), (0.02, '2016-08-27'), (0.0, '2016-08-27'), (0.12, '2016-08-27'), (None, '2016-08-27'), (0.01, '2016-08-28'), (0.14, '2016-08-28'), (0.14, '2016-08-28'), (0.14, '2016-08-28'), (0.6, '2016-08-28'), (2.07, '2016-08-28'), (0.0, '2016-08-29'), (0.17, '2016-08-29'), (0.04, '2016-08-29'), (None, '2016-08-29'), (0.0, '2016-08-29'), (0.35, '2016-08-29'), (0.9, '2016-08-29'), (0.0, '2016-08-30'), (0.0, '2016-08-30'), (0.02, '2016-08-30'), (0.0, '2016-08-30'), (0.0, '2016-08-30'), (0.05, '2016-08-30'), (0.13, '2016-08-31'), (0.1, '2016-08-31'), (None, '2016-08-31'), (None, '2016-08-31'), (0.25, '2016-08-31'), (0.24, '2016-08-31'), (2.46, '2016-08-31'), (0.0, '2016-09-01'), (0.0, '2016-09-01'), (0.0, '2016-09-01'), (None, '2016-09-01'), (0.02, '2016-09-01'), (0.01, '2016-09-01'), (0.0, '2016-09-02'), (0.02, '2016-09-02'), (0.19, '2016-09-02'), (None, '2016-09-02'), (None, '2016-09-02'), (0.01, '2016-09-02'), (0.03, '2016-09-02'), (0.0, '2016-09-03'), (0.07, '2016-09-03'), (0.08, '2016-09-03'), (0.12, '2016-09-03'), (1.0, '2016-09-03'), (0.03, '2016-09-04'), (0.03, '2016-09-04'), (0.74, '2016-09-04'), (0.14, '2016-09-04'), (0.44, '2016-09-04'), (None, '2016-09-05'), (0.11, '2016-09-05'), (None, '2016-09-05'), (0.02, '2016-09-05'), (0.03, '2016-09-05'), (0.18, '2016-09-05'), (None, '2016-09-06'), (0.05, '2016-09-06'), (0.04, '2016-09-06'), (0.03, '2016-09-06'), (0.11, '2016-09-06'), (1.0, '2016-09-06'), (0.05, '2016-09-07'), (0.1, '2016-09-07'), (0.23, '2016-09-07'), (0.11, '2016-09-07'), (0.16, '2016-09-07'), (1.35, '2016-09-07'), (0.0, '2016-09-08'), (0.22, '2016-09-08'), (0.01, '2016-09-08'), (None, '2016-09-08'), (0.01, '2016-09-08'), (0.07, '2016-09-08'), (0.15, '2016-09-08'), (0.03, '2016-09-09'), (0.01, '2016-09-09'), (0.29, '2016-09-09'), (None, '2016-09-09'), (0.23, '2016-09-09'), (0.16, '2016-09-09'), (0.35, '2016-09-09'), (0.0, '2016-09-10'), (0.01, '2016-09-10'), (0.14, '2016-09-10'), (0.09, '2016-09-10'), (1.16, '2016-09-10'), (0.05, '2016-09-11'), (0.18, '2016-09-11'), (0.12, '2016-09-11'), (0.3, '2016-09-11'), (0.6, '2016-09-11'), (0.0, '2016-09-12'), (0.04, '2016-09-12'), (None, '2016-09-12'), (None, '2016-09-12'), (0.15, '2016-09-12'), (0.31, '2016-09-12'), (1.04, '2016-09-12'), (0.02, '2016-09-13'), (0.37, '2016-09-13'), (0.32, '2016-09-13'), (None, '2016-09-13'), (0.46, '2016-09-13'), (0.34, '2016-09-13'), (1.2, '2016-09-13'), (1.32, '2016-09-14'), (0.9, '2016-09-14'), (1.84, '2016-09-14'), (None, '2016-09-14'), (1.19, '2016-09-14'), (2.33, '2016-09-14'), (6.7, '2016-09-14'), (0.42, '2016-09-15'), (0.12, '2016-09-15'), (0.07, '2016-09-15'), (None, '2016-09-15'), (0.17, '2016-09-15'), (0.83, '2016-09-15'), (3.35, '2016-09-15'), (0.06, '2016-09-16'), (0.01, '2016-09-16'), (0.07, '2016-09-16'), (0.0, '2016-09-16'), (0.01, '2016-09-16'), (0.06, '2016-09-16'), (0.61, '2016-09-16'), (0.05, '2016-09-17'), (0.04, '2016-09-17'), (0.0, '2016-09-17'), (0.36, '2016-09-17'), (0.23, '2016-09-17'), (0.0, '2016-09-18'), (0.0, '2016-09-18'), (0.04, '2016-09-18'), (0.07, '2016-09-18'), (0.42, '2016-09-18'), (0.0, '2016-09-19'), (0.01, '2016-09-19'), (None, '2016-09-19'), (None, '2016-09-19'), (0.05, '2016-09-19'), (0.01, '2016-09-19'), (0.25, '2016-09-19'), (0.0, '2016-09-20'), (0.09, '2016-09-20'), (0.25, '2016-09-20'), (0.0, '2016-09-20'), (0.04, '2016-09-20'), (0.22, '2016-09-20'), (0.43, '2016-09-20'), (0.0, '2016-09-21'), (0.06, '2016-09-21'), (0.02, '2016-09-21'), (0.0, '2016-09-21'), (0.07, '2016-09-21'), (1.02, '2016-09-21'), (0.02, '2016-09-22'), (0.09, '2016-09-22'), (0.17, '2016-09-22'), (0.06, '2016-09-22'), (0.01, '2016-09-22'), (0.34, '2016-09-22'), (0.75, '2016-09-22'), (0.0, '2016-09-23'), (0.15, '2016-09-23'), (0.15, '2016-09-23'), (0.0, '2016-09-23'), (0.0, '2016-09-23'), (0.94, '2016-09-23'), (0.33, '2016-09-23'), (0.0, '2016-09-24'), (0.0, '2016-09-24'), (0.0, '2016-09-24'), (0.0, '2016-09-24'), (0.01, '2016-09-24'), (0.27, '2016-09-24'), (0.0, '2016-09-25'), (0.02, '2016-09-25'), (0.0, '2016-09-25'), (0.0, '2016-09-25'), (0.03, '2016-09-25'), (0.04, '2016-09-25'), (0.06, '2016-09-26'), (0.06, '2016-09-26'), (0.02, '2016-09-26'), (None, '2016-09-26'), (0.34, '2016-09-26'), (0.17, '2016-09-26'), (1.02, '2016-09-26'), (0.02, '2016-09-27'), (0.12, '2016-09-27'), (0.0, '2016-09-27'), (0.05, '2016-09-27'), (0.17, '2016-09-27'), (1.0, '2016-09-27'), (0.0, '2016-09-28'), (0.08, '2016-09-28'), (0.0, '2016-09-28'), (0.0, '2016-09-28'), (0.0, '2016-09-28'), (0.0, '2016-09-28'), (0.05, '2016-09-28'), (0.0, '2016-09-29'), (0.49, '2016-09-29'), (0.2, '2016-09-29'), (0.04, '2016-09-29'), (0.18, '2016-09-29'), (0.59, '2016-09-29'), (1.49, '2016-09-29'), (0.0, '2016-09-30'), (0.31, '2016-09-30'), (0.06, '2016-09-30'), (None, '2016-09-30'), (0.15, '2016-09-30'), (0.25, '2016-09-30'), (0.38, '2016-09-30'), (0.0, '2016-10-01'), (0.14, '2016-10-01'), (0.08, '2016-10-01'), (0.07, '2016-10-01'), (0.14, '2016-10-01'), (1.02, '2016-10-01'), (0.0, '2016-10-02'), (0.02, '2016-10-02'), (0.03, '2016-10-02'), (0.0, '2016-10-02'), (0.06, '2016-10-02'), (0.61, '2016-10-02'), (0.0, '2016-10-03'), (0.04, '2016-10-03'), (0.03, '2016-10-03'), (None, '2016-10-03'), (0.0, '2016-10-03'), (0.16, '2016-10-03'), (0.46, '2016-10-03'), (0.0, '2016-10-04'), (0.0, '2016-10-04'), (0.0, '2016-10-04'), (None, '2016-10-04'), (0.0, '2016-10-04'), (0.03, '2016-10-04'), (3.46, '2016-10-04'), (0.0, '2016-10-05'), (0.0, '2016-10-05'), (0.0, '2016-10-05'), (None, '2016-10-05'), (0.0, '2016-10-05'), (0.01, '2016-10-05'), (0.81, '2016-10-05'), (0.0, '2016-10-06'), (0.05, '2016-10-06'), (0.0, '2016-10-06'), (0.07, '2016-10-06'), (0.0, '2016-10-06'), (0.0, '2016-10-06'), (0.04, '2016-10-06'), (0.0, '2016-10-07'), (0.0, '2016-10-07'), (0.0, '2016-10-07'), (None, '2016-10-07'), (0.0, '2016-10-07'), (0.0, '2016-10-07'), (0.01, '2016-10-07'), (0.0, '2016-10-08'), (0.0, '2016-10-08'), (0.0, '2016-10-08'), (0.0, '2016-10-08'), (0.04, '2016-10-08'), (0.0, '2016-10-09'), (0.0, '2016-10-09'), (0.0, '2016-10-09'), (0.0, '2016-10-09'), (0.0, '2016-10-09'), (0.0, '2016-10-10'), (0.0, '2016-10-10'), (None, '2016-10-10'), (0.0, '2016-10-10'), (0.0, '2016-10-10'), (0.0, '2016-10-10'), (0.0, '2016-10-11'), (0.02, '2016-10-11'), (0.04, '2016-10-11'), (None, '2016-10-11'), (0.0, '2016-10-11'), (0.28, '2016-10-11'), (0.35, '2016-10-11'), (0.0, '2016-10-12'), (0.03, '2016-10-12'), (0.0, '2016-10-12'), (0.0, '2016-10-12'), (0.03, '2016-10-12'), (0.02, '2016-10-12'), (0.0, '2016-10-13'), (0.0, '2016-10-13'), (0.02, '2016-10-13'), (None, '2016-10-13'), (0.0, '2016-10-13'), (0.0, '2016-10-13'), (0.06, '2016-10-13'), (0.0, '2016-10-14'), (0.0, '2016-10-14'), (0.0, '2016-10-14'), (0.0, '2016-10-14'), (0.0, '2016-10-14'), (0.0, '2016-10-14'), (0.0, '2016-10-15'), (0.0, '2016-10-15'), (0.02, '2016-10-15'), (0.0, '2016-10-15'), (0.04, '2016-10-15'), (0.33, '2016-10-15'), (0.0, '2016-10-16'), (0.0, '2016-10-16'), (0.0, '2016-10-16'), (0.0, '2016-10-16'), (0.0, '2016-10-16'), (0.01, '2016-10-17'), (0.03, '2016-10-17'), (None, '2016-10-17'), (None, '2016-10-17'), (0.12, '2016-10-17'), (0.01, '2016-10-17'), (0.38, '2016-10-17'), (0.0, '2016-10-18'), (0.05, '2016-10-18'), (0.03, '2016-10-18'), (None, '2016-10-18'), (0.02, '2016-10-18'), (0.02, '2016-10-18'), (0.48, '2016-10-18'), (0.0, '2016-10-19'), (0.06, '2016-10-19'), (0.0, '2016-10-19'), (None, '2016-10-19'), (0.0, '2016-10-19'), (0.11, '2016-10-19'), (0.0, '2016-10-19'), (0.0, '2016-10-20'), (0.0, '2016-10-20'), (0.01, '2016-10-20'), (None, '2016-10-20'), (0.0, '2016-10-20'), (1.0, '2016-10-20'), (0.05, '2016-10-21'), (0.15, '2016-10-21'), (0.03, '2016-10-21'), (None, '2016-10-21'), (None, '2016-10-21'), (0.0, '2016-10-21'), (0.09, '2016-10-21'), (0.15, '2016-10-22'), (0.1, '2016-10-22'), (0.0, '2016-10-22'), (0.15, '2016-10-22'), (1.37, '2016-10-22'), (0.01, '2016-10-23'), (0.01, '2016-10-23'), (None, '2016-10-23'), (0.0, '2016-10-23'), (0.02, '2016-10-23'), (0.24, '2016-10-23'), (0.0, '2016-10-24'), (0.0, '2016-10-24'), (0.01, '2016-10-24'), (None, '2016-10-24'), (0.0, '2016-10-24'), (0.08, '2016-10-24'), (0.7, '2016-10-24'), (0.03, '2016-10-25'), (0.04, '2016-10-25'), (0.0, '2016-10-25'), (0.4, '2016-10-25'), (0.12, '2016-10-25'), (0.11, '2016-10-25'), (0.4, '2016-10-25'), (0.0, '2016-10-26'), (0.06, '2016-10-26'), (0.2, '2016-10-26'), (0.02, '2016-10-26'), (0.01, '2016-10-26'), (0.0, '2016-10-26'), (0.0, '2016-10-27'), (0.11, '2016-10-27'), (0.2, '2016-10-27'), (None, '2016-10-27'), (0.08, '2016-10-27'), (0.22, '2016-10-27'), (1.25, '2016-10-27'), (0.0, '2016-10-28'), (0.02, '2016-10-28'), (0.07, '2016-10-28'), (None, '2016-10-28'), (0.06, '2016-10-28'), (0.05, '2016-10-28'), (0.37, '2016-10-28'), (0.0, '2016-10-29'), (0.02, '2016-10-29'), (0.26, '2016-10-29'), (0.01, '2016-10-29'), (0.1, '2016-10-29'), (0.25, '2016-10-29'), (0.24, '2016-10-30'), (0.1, '2016-10-30'), (0.14, '2016-10-30'), (0.0, '2016-10-30'), (0.16, '2016-10-30'), (0.95, '2016-10-30'), (0.03, '2016-10-31'), (0.03, '2016-10-31'), (0.0, '2016-10-31'), (None, '2016-10-31'), (0.13, '2016-10-31'), (0.07, '2016-10-31'), (1.35, '2016-10-31'), (0.0, '2016-11-01'), (0.01, '2016-11-01'), (0.0, '2016-11-01'), (0.01, '2016-11-01'), (0.1, '2016-11-01'), (0.09, '2016-11-01'), (0.0, '2016-11-02'), (0.0, '2016-11-02'), (0.0, '2016-11-02'), (0.0, '2016-11-02'), (0.0, '2016-11-02'), (0.04, '2016-11-02'), (0.0, '2016-11-03'), (0.0, '2016-11-03'), (0.0, '2016-11-03'), (0.0, '2016-11-03'), (0.0, '2016-11-03'), (0.02, '2016-11-03'), (0.0, '2016-11-04'), (0.0, '2016-11-04'), (0.0, '2016-11-04'), (None, '2016-11-04'), (0.0, '2016-11-04'), (0.0, '2016-11-04'), (0.06, '2016-11-04'), (0.0, '2016-11-05'), (0.02, '2016-11-05'), (0.0, '2016-11-05'), (0.02, '2016-11-05'), (0.03, '2016-11-05'), (0.38, '2016-11-05'), (0.0, '2016-11-06'), (0.02, '2016-11-06'), (0.0, '2016-11-06'), (0.0, '2016-11-06'), (0.01, '2016-11-06'), (0.05, '2016-11-06'), (0.0, '2016-11-07'), (0.0, '2016-11-07'), (0.13, '2016-11-07'), (None, '2016-11-07'), (0.0, '2016-11-07'), (0.0, '2016-11-07'), (0.05, '2016-11-07'), (0.07, '2016-11-08'), (0.14, '2016-11-08'), (0.02, '2016-11-08'), (0.15, '2016-11-08'), (0.21, '2016-11-08'), (0.53, '2016-11-08'), (0.0, '2016-11-09'), (0.08, '2016-11-09'), (0.17, '2016-11-09'), (0.0, '2016-11-09'), (0.0, '2016-11-09'), (0.11, '2016-11-09'), (0.04, '2016-11-09'), (0.0, '2016-11-10'), (0.0, '2016-11-10'), (0.0, '2016-11-10'), (0.0, '2016-11-10'), (0.0, '2016-11-10'), (0.01, '2016-11-10'), (0.0, '2016-11-11'), (0.0, '2016-11-11'), (0.0, '2016-11-11'), (0.0, '2016-11-11'), (0.0, '2016-11-11'), (0.0, '2016-11-11'), (0.0, '2016-11-12'), (0.0, '2016-11-12'), (0.0, '2016-11-12'), (0.0, '2016-11-12'), (0.0, '2016-11-12'), (0.0, '2016-11-12'), (0.0, '2016-11-13'), (0.0, '2016-11-13'), (0.0, '2016-11-13'), (0.0, '2016-11-13'), (0.0, '2016-11-13'), (0.0, '2016-11-13'), (0.0, '2016-11-14'), (0.06, '2016-11-14'), (0.05, '2016-11-14'), (0.02, '2016-11-14'), (0.0, '2016-11-14'), (0.0, '2016-11-14'), (0.02, '2016-11-14'), (0.0, '2016-11-15'), (0.0, '2016-11-15'), (0.0, '2016-11-15'), (None, '2016-11-15'), (0.0, '2016-11-15'), (0.0, '2016-11-15'), (0.05, '2016-11-15'), (0.0, '2016-11-16'), (0.14, '2016-11-16'), (0.18, '2016-11-16'), (None, '2016-11-16'), (0.07, '2016-11-16'), (0.24, '2016-11-16'), (0.91, '2016-11-16'), (0.0, '2016-11-17'), (0.03, '2016-11-17'), (0.0, '2016-11-17'), (None, '2016-11-17'), (0.0, '2016-11-17'), (0.01, '2016-11-17'), (0.02, '2016-11-17'), (0.0, '2016-11-18'), (0.01, '2016-11-18'), (None, '2016-11-18'), (0.02, '2016-11-18'), (0.0, '2016-11-18'), (0.03, '2016-11-19'), (0.11, '2016-11-19'), (0.13, '2016-11-19'), (0.11, '2016-11-19'), (0.05, '2016-11-20'), (0.11, '2016-11-20'), (0.4, '2016-11-20'), (0.39, '2016-11-20'), (None, '2016-11-20'), (0.01, '2016-11-21'), (0.02, '2016-11-21'), (None, '2016-11-21'), (0.07, '2016-11-21'), (0.11, '2016-11-21'), (2.87, '2016-11-21'), (0.13, '2016-11-22'), (0.41, '2016-11-22'), (None, '2016-11-22'), (None, '2016-11-22'), (0.31, '2016-11-22'), (2.05, '2016-11-22'), (2.11, '2016-11-22'), (0.14, '2016-11-23'), (0.03, '2016-11-23'), (None, '2016-11-23'), (0.03, '2016-11-23'), (0.25, '2016-11-23'), (0.22, '2016-11-23'), (0.05, '2016-11-24'), (0.2, '2016-11-24'), (0.21, '2016-11-24'), (0.3, '2016-11-24'), (0.72, '2016-11-24'), (0.05, '2016-11-25'), (0.05, '2016-11-25'), (None, '2016-11-25'), (0.11, '2016-11-25'), (0.08, '2016-11-25'), (1.03, '2016-11-25'), (0.05, '2016-11-26'), (0.05, '2016-11-26'), (0.02, '2016-11-26'), (0.03, '2016-11-26'), (0.06, '2016-11-26'), (0.3, '2016-11-26'), (0.0, '2016-11-27'), (0.06, '2016-11-27'), (0.03, '2016-11-27'), (0.0, '2016-11-27'), (0.17, '2016-11-27'), (0.29, '2016-11-27'), (0.01, '2016-11-28'), (0.02, '2016-11-28'), (0.0, '2016-11-28'), (None, '2016-11-28'), (0.0, '2016-11-28'), (0.0, '2016-11-28'), (0.69, '2016-11-28'), (0.0, '2016-11-29'), (0.04, '2016-11-29'), (0.04, '2016-11-29'), (None, '2016-11-29'), (0.06, '2016-11-29'), (0.09, '2016-11-29'), (0.2, '2016-11-29'), (0.14, '2016-11-30'), (0.05, '2016-11-30'), (0.03, '2016-11-30'), (None, '2016-11-30'), (0.0, '2016-11-30'), (0.05, '2016-11-30'), (0.79, '2016-11-30'), (0.12, '2016-12-01'), (0.33, '2016-12-01'), (0.07, '2016-12-01'), (None, '2016-12-01'), (0.16, '2016-12-01'), (0.37, '2016-12-01'), (0.72, '2016-12-01'), (0.03, '2016-12-02'), (0.3, '2016-12-02'), (0.4, '2016-12-02'), (None, '2016-12-02'), (0.01, '2016-12-02'), (0.35, '2016-12-02'), (1.27, '2016-12-02'), (0.0, '2016-12-03'), (0.04, '2016-12-03'), (0.26, '2016-12-03'), (0.02, '2016-12-03'), (0.77, '2016-12-03'), (1.62, '2016-12-03'), (0.03, '2016-12-04'), (0.1, '2016-12-04'), (0.0, '2016-12-04'), (0.32, '2016-12-04'), (0.04, '2016-12-04'), (0.31, '2016-12-04'), (0.43, '2016-12-05'), (0.34, '2016-12-05'), (0.2, '2016-12-05'), (None, '2016-12-05'), (0.45, '2016-12-05'), (0.22, '2016-12-05'), (1.6, '2016-12-05'), (0.02, '2016-12-06'), (0.02, '2016-12-06'), (None, '2016-12-06'), (0.0, '2016-12-06'), (0.0, '2016-12-06'), (0.0, '2016-12-06'), (0.0, '2016-12-07'), (0.17, '2016-12-07'), (None, '2016-12-07'), (None, '2016-12-07'), (0.07, '2016-12-07'), (0.12, '2016-12-07'), (0.02, '2016-12-07'), (0.03, '2016-12-08'), (0.03, '2016-12-08'), (0.02, '2016-12-08'), (0.27, '2016-12-08'), (0.01, '2016-12-08'), (0.07, '2016-12-08'), (0.03, '2016-12-08'), (0.52, '2016-12-09'), (0.34, '2016-12-09'), (0.26, '2016-12-09'), (None, '2016-12-09'), (0.31, '2016-12-09'), (0.42, '2016-12-09'), (0.05, '2016-12-10'), (0.02, '2016-12-10'), (0.0, '2016-12-10'), (None, '2016-12-10'), (0.02, '2016-12-10'), (0.04, '2016-12-10'), (0.04, '2016-12-11'), (0.02, '2016-12-11'), (0.06, '2016-12-11'), (0.0, '2016-12-11'), (0.13, '2016-12-11'), (0.01, '2016-12-12'), (0.01, '2016-12-12'), (None, '2016-12-12'), (0.02, '2016-12-12'), (0.0, '2016-12-12'), (0.0, '2016-12-12'), (0.01, '2016-12-12'), (0.05, '2016-12-13'), (0.1, '2016-12-13'), (0.34, '2016-12-13'), (None, '2016-12-13'), (0.15, '2016-12-13'), (0.04, '2016-12-13'), (0.09, '2016-12-13'), (0.03, '2016-12-14'), (0.05, '2016-12-14'), (0.12, '2016-12-14'), (None, '2016-12-14'), (0.05, '2016-12-14'), (0.92, '2016-12-14'), (0.33, '2016-12-14'), (0.0, '2016-12-15'), (0.02, '2016-12-15'), (0.07, '2016-12-15'), (None, '2016-12-15'), (0.0, '2016-12-15'), (0.14, '2016-12-15'), (0.03, '2016-12-15'), (0.0, '2016-12-16'), (0.01, '2016-12-16'), (0.0, '2016-12-16'), (None, '2016-12-16'), (0.0, '2016-12-16'), (0.03, '2016-12-16'), (0.0, '2016-12-16'), (0.01, '2016-12-17'), (0.11, '2016-12-17'), (0.0, '2016-12-17'), (0.16, '2016-12-17'), (0.07, '2016-12-17'), (0.13, '2016-12-18'), (0.29, '2016-12-18'), (0.04, '2016-12-18'), (0.27, '2016-12-18'), (0.16, '2016-12-18'), (None, '2016-12-18'), (0.01, '2016-12-19'), (0.21, '2016-12-19'), (0.0, '2016-12-19'), (None, '2016-12-19'), (0.02, '2016-12-19'), (0.03, '2016-12-19'), (0.15, '2016-12-19'), (0.0, '2016-12-20'), (0.02, '2016-12-20'), (0.0, '2016-12-20'), (None, '2016-12-20'), (0.01, '2016-12-20'), (0.0, '2016-12-20'), (0.0, '2016-12-20'), (0.0, '2016-12-21'), (0.03, '2016-12-21'), (0.09, '2016-12-21'), (0.06, '2016-12-21'), (0.06, '2016-12-21'), (0.11, '2016-12-21'), (0.55, '2016-12-21'), (0.01, '2016-12-22'), (0.17, '2016-12-22'), (0.05, '2016-12-22'), (None, '2016-12-22'), (0.14, '2016-12-22'), (0.86, '2016-12-22'), (1.24, '2016-12-22'), (0.01, '2016-12-23'), (0.1, '2016-12-23'), (0.03, '2016-12-23'), (None, '2016-12-23'), (0.02, '2016-12-23'), (0.24, '2016-12-23'), (0.83, '2016-12-23'), (0.01, '2016-12-24'), (0.14, '2016-12-24'), (0.13, '2016-12-24'), (0.06, '2016-12-24'), (0.2, '2016-12-24'), (1.08, '2016-12-24'), (0.0, '2016-12-25'), (0.03, '2016-12-25'), (0.0, '2016-12-25'), (0.02, '2016-12-25'), (0.38, '2016-12-25'), (0.02, '2016-12-26'), (0.26, '2016-12-26'), (None, '2016-12-26'), (0.06, '2016-12-26'), (0.22, '2016-12-26'), (1.48, '2016-12-26'), (0.0, '2016-12-27'), (0.03, '2016-12-27'), (0.02, '2016-12-27'), (0.0, '2016-12-27'), (0.05, '2016-12-27'), (0.14, '2016-12-27'), (0.02, '2016-12-28'), (0.09, '2016-12-28'), (0.01, '2016-12-28'), (None, '2016-12-28'), (0.06, '2016-12-28'), (0.09, '2016-12-28'), (0.14, '2016-12-28'), (0.04, '2016-12-29'), (0.18, '2016-12-29'), (0.56, '2016-12-29'), (None, '2016-12-29'), (0.05, '2016-12-29'), (0.52, '2016-12-29'), (1.03, '2016-12-29'), (0.12, '2016-12-30'), (0.21, '2016-12-30'), (0.29, '2016-12-30'), (None, '2016-12-30'), (0.07, '2016-12-30'), (0.29, '2016-12-30'), (2.37, '2016-12-30'), (0.01, '2016-12-31'), (0.62, '2016-12-31'), (0.36, '2016-12-31'), (0.25, '2016-12-31'), (0.9, '2016-12-31'), (0.0, '2017-01-01'), (0.29, '2017-01-01'), (0.0, '2017-01-01'), (None, '2017-01-01'), (0.03, '2017-01-01'), (0.03, '2017-01-01'), (0.0, '2017-01-02'), (0.0, '2017-01-02'), (0.01, '2017-01-02'), (0.01, '2017-01-02'), (0.0, '2017-01-02'), (0.0, '2017-01-03'), (0.0, '2017-01-03'), (0.0, '2017-01-03'), (None, '2017-01-03'), (0.0, '2017-01-03'), (0.0, '2017-01-03'), (0.0, '2017-01-04'), (0.0, '2017-01-04'), (0.0, '2017-01-04'), (0.18, '2017-01-04'), (0.0, '2017-01-04'), (0.0, '2017-01-04'), (0.0, '2017-01-05'), (0.0, '2017-01-05'), (0.0, '2017-01-05'), (0.42, '2017-01-05'), (0.06, '2017-01-05'), (0.47, '2017-01-05'), (0.0, '2017-01-06'), (0.0, '2017-01-06'), (0.59, '2017-01-06'), (0.01, '2017-01-06'), (0.1, '2017-01-06'), (0.1, '2017-01-06'), (0.0, '2017-01-07'), (0.06, '2017-01-07'), (0.0, '2017-01-07'), (0.0, '2017-01-07'), (0.0, '2017-01-07'), (0.0, '2017-01-07'), (0.0, '2017-01-08'), (0.0, '2017-01-08'), (0.03, '2017-01-08'), (0.0, '2017-01-08'), (0.0, '2017-01-08'), (0.03, '2017-01-08'), (0.0, '2017-01-09'), (0.0, '2017-01-09'), (0.0, '2017-01-09'), (None, '2017-01-09'), (0.0, '2017-01-09'), (0.0, '2017-01-09'), (0.0, '2017-01-09'), (0.0, '2017-01-10'), (0.0, '2017-01-10'), (0.0, '2017-01-10'), (None, '2017-01-10'), (0.0, '2017-01-10'), (0.0, '2017-01-10'), (0.0, '2017-01-10'), (0.0, '2017-01-11'), (0.0, '2017-01-11'), (0.0, '2017-01-11'), (None, '2017-01-11'), (0.0, '2017-01-11'), (0.0, '2017-01-11'), (0.0, '2017-01-12'), (0.0, '2017-01-12'), (None, '2017-01-12'), (None, '2017-01-12'), (0.0, '2017-01-12'), (0.0, '2017-01-12'), (0.0, '2017-01-13'), (0.0, '2017-01-13'), (None, '2017-01-13'), (None, '2017-01-13'), (0.0, '2017-01-13'), (0.0, '2017-01-13'), (0.0, '2017-01-14'), (0.0, '2017-01-14'), (0.0, '2017-01-14'), (0.01, '2017-01-14'), (0.0, '2017-01-14'), (0.0, '2017-01-15'), (0.0, '2017-01-15'), (None, '2017-01-15'), (0.0, '2017-01-15'), (0.01, '2017-01-15'), (0.0, '2017-01-16'), (0.0, '2017-01-16'), (None, '2017-01-16'), (0.0, '2017-01-16'), (0.0, '2017-01-16'), (0.0, '2017-01-16'), (0.0, '2017-01-17'), (0.0, '2017-01-17'), (0.0, '2017-01-17'), (0.0, '2017-01-17'), (0.0, '2017-01-17'), (0.0, '2017-01-17'), (0.0, '2017-01-18'), (0.0, '2017-01-18'), (0.0, '2017-01-18'), (0.0, '2017-01-18'), (None, '2017-01-18'), (0.0, '2017-01-18'), (0.07, '2017-01-18'), (0.0, '2017-01-19'), (0.0, '2017-01-19'), (0.0, '2017-01-19'), (None, '2017-01-19'), (0.0, '2017-01-19'), (0.02, '2017-01-19'), (0.0, '2017-01-19'), (0.0, '2017-01-20'), (0.0, '2017-01-20'), (0.0, '2017-01-20'), (None, '2017-01-20'), (0.0, '2017-01-20'), (0.0, '2017-01-20'), (0.0, '2017-01-20'), (0.0, '2017-01-21'), (0.04, '2017-01-21'), (0.02, '2017-01-21'), (0.11, '2017-01-21'), (0.03, '2017-01-21'), (0.08, '2017-01-21'), (0.16, '2017-01-22'), (0.01, '2017-01-22'), (0.04, '2017-01-22'), (0.09, '2017-01-22'), (0.72, '2017-01-22'), (0.0, '2017-01-23'), (0.08, '2017-01-23'), (None, '2017-01-23'), (None, '2017-01-23'), (0.0, '2017-01-23'), (0.01, '2017-01-23'), (0.85, '2017-01-23'), (0.04, '2017-01-24'), (0.15, '2017-01-24'), (None, '2017-01-24'), (0.08, '2017-01-24'), (0.13, '2017-01-24'), (1.85, '2017-01-24'), (0.03, '2017-01-25'), (0.12, '2017-01-25'), (None, '2017-01-25'), (None, '2017-01-25'), (0.0, '2017-01-25'), (0.79, '2017-01-25'), (2.64, '2017-01-25'), (0.0, '2017-01-26'), (0.0, '2017-01-26'), (0.01, '2017-01-26'), (0.0, '2017-01-26'), (0.0, '2017-01-26'), (0.0, '2017-01-26'), (0.1, '2017-01-26'), (0.0, '2017-01-27'), (0.0, '2017-01-27'), (0.0, '2017-01-27'), (0.0, '2017-01-27'), (0.0, '2017-01-27'), (0.03, '2017-01-27'), (0.03, '2017-01-27'), (0.0, '2017-01-28'), (0.14, '2017-01-28'), (0.0, '2017-01-28'), (0.0, '2017-01-28'), (0.0, '2017-01-28'), (0.18, '2017-01-29'), (0.0, '2017-01-29'), (None, '2017-01-29'), (0.26, '2017-01-29'), (0.55, '2017-01-29'), (0.0, '2017-01-30'), (0.0, '2017-01-30'), (None, '2017-01-30'), (0.05, '2017-01-30'), (0.0, '2017-01-30'), (0.0, '2017-01-30'), (0.0, '2017-01-30'), (0.0, '2017-01-31'), (0.0, '2017-01-31'), (0.0, '2017-01-31'), (0.0, '2017-01-31'), (0.0, '2017-01-31'), (0.0, '2017-01-31'), (0.0, '2017-01-31'), (0.0, '2017-02-01'), (0.0, '2017-02-01'), (0.0, '2017-02-01'), (0.0, '2017-02-01'), (0.0, '2017-02-01'), (0.0, '2017-02-01'), (0.0, '2017-02-01'), (0.0, '2017-02-02'), (0.0, '2017-02-02'), (0.0, '2017-02-02'), (0.0, '2017-02-02'), (0.0, '2017-02-02'), (0.0, '2017-02-02'), (0.0, '2017-02-02'), (0.0, '2017-02-03'), (0.0, '2017-02-03'), (0.0, '2017-02-03'), (0.0, '2017-02-03'), (0.0, '2017-02-03'), (0.0, '2017-02-03'), (0.0, '2017-02-04'), (0.0, '2017-02-04'), (0.0, '2017-02-04'), (0.0, '2017-02-04'), (None, '2017-02-04'), (0.0, '2017-02-05'), (0.0, '2017-02-05'), (None, '2017-02-05'), (0.0, '2017-02-05'), (0.0, '2017-02-05'), (0.0, '2017-02-05'), (0.0, '2017-02-06'), (0.16, '2017-02-06'), (0.04, '2017-02-06'), (None, '2017-02-06'), (0.0, '2017-02-06'), (0.18, '2017-02-06'), (0.0, '2017-02-06'), (0.51, '2017-02-07'), (1.08, '2017-02-07'), (0.9, '2017-02-07'), (0.0, '2017-02-07'), (1.8, '2017-02-07'), (1.32, '2017-02-07'), (1.79, '2017-02-07'), (0.0, '2017-02-08'), (1.08, '2017-02-08'), (0.0, '2017-02-08'), (0.0, '2017-02-08'), (0.0, '2017-02-08'), (0.0, '2017-02-08'), (0.0, '2017-02-08'), (0.0, '2017-02-09'), (0.02, '2017-02-09'), (0.0, '2017-02-09'), (0.0, '2017-02-09'), (0.0, '2017-02-09'), (0.0, '2017-02-09'), (0.0, '2017-02-09'), (0.0, '2017-02-10'), (0.0, '2017-02-10'), (0.0, '2017-02-10'), (0.0, '2017-02-10'), (0.0, '2017-02-10'), (0.0, '2017-02-10'), (0.0, '2017-02-10'), (0.31, '2017-02-11'), (1.0, '2017-02-11'), (2.39, '2017-02-11'), (5.04, '2017-02-11'), (1.73, '2017-02-11'), (0.73, '2017-02-11'), (2.62, '2017-02-12'), (1.07, '2017-02-12'), (1.91, '2017-02-12'), (0.07, '2017-02-12'), (2.98, '2017-02-12'), (1.83, '2017-02-12'), (0.01, '2017-02-13'), (2.9, '2017-02-13'), (0.0, '2017-02-13'), (None, '2017-02-13'), (0.0, '2017-02-13'), (0.01, '2017-02-13'), (0.0, '2017-02-13'), (0.0, '2017-02-14'), (0.0, '2017-02-14'), (0.0, '2017-02-14'), (0.0, '2017-02-14'), (0.0, '2017-02-14'), (0.01, '2017-02-14'), (0.0, '2017-02-15'), (0.0, '2017-02-15'), (0.0, '2017-02-15'), (None, '2017-02-15'), (None, '2017-02-15'), (0.01, '2017-02-15'), (0.07, '2017-02-15'), (0.07, '2017-02-16'), (0.0, '2017-02-16'), (0.62, '2017-02-16'), (None, '2017-02-16'), (0.67, '2017-02-16'), (0.73, '2017-02-16'), (0.13, '2017-02-16'), (0.0, '2017-02-17'), (0.8, '2017-02-17'), (0.06, '2017-02-17'), (0.0, '2017-02-17'), (0.06, '2017-02-17'), (0.13, '2017-02-17'), (0.0, '2017-02-18'), (0.0, '2017-02-18'), (0.01, '2017-02-18'), (0.0, '2017-02-18'), (None, '2017-02-18'), (0.0, '2017-02-19'), (0.0, '2017-02-19'), (0.09, '2017-02-19'), (0.1, '2017-02-19'), (0.0, '2017-02-20'), (0.0, '2017-02-20'), (None, '2017-02-20'), (None, '2017-02-20'), (0.0, '2017-02-20'), (0.0, '2017-02-20'), (0.06, '2017-02-21'), (0.0, '2017-02-21'), (0.0, '2017-02-21'), (None, '2017-02-21'), (0.0, '2017-02-21'), (0.07, '2017-02-21'), (0.06, '2017-02-22'), (0.06, '2017-02-22'), (0.11, '2017-02-22'), (0.17, '2017-02-22'), (0.13, '2017-02-22'), (0.06, '2017-02-22'), (0.32, '2017-02-22'), (0.01, '2017-02-23'), (0.0, '2017-02-23'), (0.0, '2017-02-23'), (0.0, '2017-02-23'), (0.0, '2017-02-23'), (0.0, '2017-02-23'), (0.0, '2017-02-23'), (0.0, '2017-02-24'), (0.0, '2017-02-24'), (0.0, '2017-02-24'), (0.0, '2017-02-24'), (0.0, '2017-02-24'), (0.0, '2017-02-24'), (0.0, '2017-02-24'), (0.03, '2017-02-25'), (0.0, '2017-02-25'), (0.0, '2017-02-25'), (0.12, '2017-02-25'), (0.0, '2017-02-26'), (0.0, '2017-02-26'), (None, '2017-02-26'), (None, '2017-02-26'), (0.0, '2017-02-26'), (0.0, '2017-02-26'), (0.0, '2017-02-27'), (0.0, '2017-02-27'), (0.0, '2017-02-27'), (None, '2017-02-27'), (0.0, '2017-02-27'), (0.0, '2017-02-27'), (0.0, '2017-02-27'), (0.0, '2017-02-28'), (0.16, '2017-02-28'), (0.04, '2017-02-28'), (None, '2017-02-28'), (0.0, '2017-02-28'), (0.04, '2017-02-28'), (0.58, '2017-02-28'), (1.19, '2017-03-01'), (2.2, '2017-03-01'), (1.12, '2017-03-01'), (2.4, '2017-03-01'), (0.59, '2017-03-01'), (2.12, '2017-03-01'), (2.0, '2017-03-01'), (0.73, '2017-03-02'), (1.45, '2017-03-02'), (0.44, '2017-03-02'), (1.48, '2017-03-02'), (1.88, '2017-03-02'), (0.58, '2017-03-02'), (0.47, '2017-03-03'), (0.54, '2017-03-03'), (None, '2017-03-03'), (0.14, '2017-03-03'), (0.25, '2017-03-03'), (0.27, '2017-03-03'), (0.56, '2017-03-03'), (0.0, '2017-03-04'), (0.0, '2017-03-04'), (0.0, '2017-03-04'), (0.0, '2017-03-04'), (0.0, '2017-03-04'), (0.35, '2017-03-05'), (0.1, '2017-03-05'), (0.41, '2017-03-05'), (0.35, '2017-03-05'), (0.0, '2017-03-06'), (0.51, '2017-03-06'), (None, '2017-03-06'), (None, '2017-03-06'), (None, '2017-03-06'), (0.03, '2017-03-06'), (0.0, '2017-03-06'), (0.0, '2017-03-07'), (0.0, '2017-03-07'), (0.0, '2017-03-07'), (None, '2017-03-07'), (0.0, '2017-03-07'), (0.0, '2017-03-07'), (0.0, '2017-03-08'), (0.0, '2017-03-08'), (0.0, '2017-03-08'), (None, '2017-03-08'), (0.0, '2017-03-08'), (0.0, '2017-03-08'), (0.0, '2017-03-09'), (0.8, '2017-03-09'), (0.5, '2017-03-09'), (0.0, '2017-03-09'), (None, '2017-03-09'), (0.65, '2017-03-09'), (0.01, '2017-03-09'), (0.0, '2017-03-10'), (0.13, '2017-03-10'), (0.13, '2017-03-10'), (0.0, '2017-03-10'), (0.0, '2017-03-10'), (0.03, '2017-03-10'), (0.0, '2017-03-10'), (0.0, '2017-03-11'), (0.03, '2017-03-11'), (0.0, '2017-03-11'), (0.01, '2017-03-11'), (0.0, '2017-03-11'), (0.0, '2017-03-12'), (0.0, '2017-03-12'), (None, '2017-03-12'), (0.0, '2017-03-12'), (0.0, '2017-03-12'), (0.0, '2017-03-13'), (0.0, '2017-03-13'), (0.0, '2017-03-13'), (None, '2017-03-13'), (0.0, '2017-03-13'), (0.0, '2017-03-13'), (None, '2017-03-13'), (0.0, '2017-03-14'), (0.0, '2017-03-14'), (0.0, '2017-03-14'), (0.06, '2017-03-14'), (0.0, '2017-03-14'), (0.0, '2017-03-14'), (0.0, '2017-03-14'), (0.0, '2017-03-15'), (0.0, '2017-03-15'), (0.0, '2017-03-15'), (0.0, '2017-03-15'), (0.06, '2017-03-15'), (0.0, '2017-03-15'), (0.0, '2017-03-16'), (0.0, '2017-03-16'), (None, '2017-03-16'), (None, '2017-03-16'), (0.0, '2017-03-16'), (0.0, '2017-03-16'), (0.0, '2017-03-16'), (0.0, '2017-03-17'), (0.19, '2017-03-17'), (0.06, '2017-03-17'), (None, '2017-03-17'), (0.35, '2017-03-17'), (0.12, '2017-03-17'), (0.0, '2017-03-18'), (0.0, '2017-03-18'), (0.0, '2017-03-18'), (0.0, '2017-03-18'), (0.0, '2017-03-18'), (None, '2017-03-18'), (0.0, '2017-03-19'), (0.0, '2017-03-19'), (0.0, '2017-03-19'), (0.0, '2017-03-19'), (0.0, '2017-03-19'), (0.0, '2017-03-20'), (0.0, '2017-03-20'), (None, '2017-03-20'), (0.0, '2017-03-20'), (0.02, '2017-03-20'), (0.0, '2017-03-20'), (0.0, '2017-03-21'), (0.0, '2017-03-21'), (0.0, '2017-03-21'), (0.0, '2017-03-21'), (0.09, '2017-03-21'), (0.0, '2017-03-21'), (0.0, '2017-03-22'), (0.0, '2017-03-22'), (0.0, '2017-03-22'), (0.0, '2017-03-22'), (0.0, '2017-03-22'), (0.0, '2017-03-22'), (0.0, '2017-03-23'), (0.0, '2017-03-23'), (0.0, '2017-03-23'), (0.02, '2017-03-23'), (0.0, '2017-03-23'), (0.03, '2017-03-23'), (0.02, '2017-03-24'), (0.6, '2017-03-24'), (0.15, '2017-03-24'), (0.07, '2017-03-24'), (0.12, '2017-03-24'), (0.17, '2017-03-24'), (0.0, '2017-03-25'), (0.13, '2017-03-25'), (0.43, '2017-03-25'), (0.93, '2017-03-25'), (0.48, '2017-03-25'), (0.0, '2017-03-26'), (0.0, '2017-03-26'), (0.0, '2017-03-26'), (0.0, '2017-03-26'), (0.0, '2017-03-26'), (0.0, '2017-03-27'), (0.0, '2017-03-27'), (None, '2017-03-27'), (0.0, '2017-03-27'), (0.01, '2017-03-27'), (0.0, '2017-03-27'), (0.0, '2017-03-28'), (0.03, '2017-03-28'), (0.0, '2017-03-28'), (None, '2017-03-28'), (0.0, '2017-03-28'), (0.0, '2017-03-28'), (0.68, '2017-03-28'), (0.0, '2017-03-29'), (0.0, '2017-03-29'), (0.03, '2017-03-29'), (None, '2017-03-29'), (0.08, '2017-03-29'), (0.01, '2017-03-29'), (0.07, '2017-03-29'), (0.0, '2017-03-30'), (0.08, '2017-03-30'), (0.03, '2017-03-30'), (None, '2017-03-30'), (0.0, '2017-03-30'), (0.04, '2017-03-30'), (0.0, '2017-03-31'), (0.0, '2017-03-31'), (0.0, '2017-03-31'), (0.0, '2017-03-31'), (0.0, '2017-03-31'), (0.01, '2017-03-31'), (None, '2017-03-31'), (0.0, '2017-04-01'), (0.0, '2017-04-01'), (0.0, '2017-04-01'), (0.0, '2017-04-01'), (0.21, '2017-04-01'), (0.2, '2017-04-01'), (0.0, '2017-04-02'), (0.0, '2017-04-02'), (0.0, '2017-04-02'), (0.0, '2017-04-02'), (0.0, '2017-04-02'), (0.0, '2017-04-02'), (0.0, '2017-04-03'), (0.08, '2017-04-03'), (0.09, '2017-04-03'), (None, '2017-04-03'), (0.0, '2017-04-03'), (0.26, '2017-04-03'), (0.23, '2017-04-03'), (0.0, '2017-04-04'), (0.04, '2017-04-04'), (0.0, '2017-04-04'), (0.0, '2017-04-04'), (0.0, '2017-04-04'), (0.09, '2017-04-04'), (0.02, '2017-04-04'), (0.0, '2017-04-05'), (0.04, '2017-04-05'), (0.07, '2017-04-05'), (0.0, '2017-04-05'), (0.0, '2017-04-05'), (0.1, '2017-04-05'), (0.45, '2017-04-05'), (0.0, '2017-04-06'), (0.0, '2017-04-06'), (0.0, '2017-04-06'), (0.0, '2017-04-06'), (0.0, '2017-04-06'), (0.06, '2017-04-06'), (0.0, '2017-04-06'), (0.0, '2017-04-07'), (0.0, '2017-04-07'), (0.0, '2017-04-07'), (0.0, '2017-04-07'), (0.0, '2017-04-07'), (0.0, '2017-04-07'), (0.0, '2017-04-08'), (0.0, '2017-04-08'), (0.0, '2017-04-08'), (None, '2017-04-08'), (0.0, '2017-04-09'), (0.0, '2017-04-09'), (None, '2017-04-09'), (None, '2017-04-09'), (0.0, '2017-04-09'), (0.0, '2017-04-09'), (0.0, '2017-04-10'), (0.01, '2017-04-10'), (0.0, '2017-04-10'), (None, '2017-04-10'), (0.0, '2017-04-10'), (0.01, '2017-04-10'), (0.0, '2017-04-10'), (0.0, '2017-04-11'), (0.03, '2017-04-11'), (0.16, '2017-04-11'), (None, '2017-04-11'), (0.0, '2017-04-11'), (0.03, '2017-04-11'), (0.25, '2017-04-11'), (0.0, '2017-04-12'), (0.03, '2017-04-12'), (0.29, '2017-04-12'), (None, '2017-04-12'), (0.0, '2017-04-12'), (0.11, '2017-04-12'), (0.65, '2017-04-12'), (0.0, '2017-04-13'), (0.27, '2017-04-13'), (0.0, '2017-04-13'), (None, '2017-04-13'), (0.0, '2017-04-13'), (0.59, '2017-04-13'), (0.23, '2017-04-13'), (0.26, '2017-04-14'), (0.69, '2017-04-14'), (0.29, '2017-04-14'), (0.36, '2017-04-14'), (2.3, '2017-04-14'), (2.82, '2017-04-14'), (0.01, '2017-04-15'), (0.45, '2017-04-15'), (0.0, '2017-04-15'), (0.38, '2017-04-15'), (0.9, '2017-04-15'), (0.0, '2017-04-16'), (0.49, '2017-04-16'), (0.0, '2017-04-16'), (0.47, '2017-04-16'), (0.11, '2017-04-16'), (0.02, '2017-04-17'), (0.41, '2017-04-17'), (None, '2017-04-17'), (None, '2017-04-17'), (0.3, '2017-04-17'), (1.04, '2017-04-17'), (1.3, '2017-04-17'), (0.0, '2017-04-18'), (0.08, '2017-04-18'), (0.12, '2017-04-18'), (0.0, '2017-04-18'), (0.15, '2017-04-18'), (2.03, '2017-04-18'), (0.98, '2017-04-18'), (0.02, '2017-04-19'), (0.02, '2017-04-19'), (0.0, '2017-04-19'), (None, '2017-04-19'), (0.0, '2017-04-19'), (0.02, '2017-04-19'), (0.14, '2017-04-19'), (0.05, '2017-04-20'), (0.33, '2017-04-20'), (0.0, '2017-04-20'), (None, '2017-04-20'), (0.35, '2017-04-20'), (0.05, '2017-04-20'), (0.0, '2017-04-20'), (0.23, '2017-04-21'), (1.16, '2017-04-21'), (1.05, '2017-04-21'), (None, '2017-04-21'), (2.36, '2017-04-21'), (1.74, '2017-04-21'), (1.84, '2017-04-21'), (0.32, '2017-04-22'), (1.01, '2017-04-22'), (0.7, '2017-04-22'), (1.58, '2017-04-22'), (1.35, '2017-04-22'), (0.03, '2017-04-23'), (0.02, '2017-04-23'), (0.06, '2017-04-23'), (0.35, '2017-04-23'), (0.0, '2017-04-24'), (0.0, '2017-04-24'), (None, '2017-04-24'), (None, '2017-04-24'), (None, '2017-04-24'), (0.01, '2017-04-24'), (0.05, '2017-04-24'), (0.0, '2017-04-25'), (0.0, '2017-04-25'), (0.0, '2017-04-25'), (None, '2017-04-25'), (0.0, '2017-04-25'), (0.0, '2017-04-25'), (0.0, '2017-04-25'), (0.0, '2017-04-26'), (0.0, '2017-04-26'), (0.14, '2017-04-26'), (0.01, '2017-04-26'), (0.02, '2017-04-26'), (0.22, '2017-04-26'), (0.0, '2017-04-27'), (0.1, '2017-04-27'), (0.02, '2017-04-27'), (None, '2017-04-27'), (0.0, '2017-04-27'), (0.19, '2017-04-27'), (0.11, '2017-04-27'), (0.0, '2017-04-28'), (2.6, '2017-04-28'), (0.09, '2017-04-28'), (None, '2017-04-28'), (0.0, '2017-04-28'), (0.76, '2017-04-28'), (0.79, '2017-04-28'), (0.12, '2017-04-29'), (0.35, '2017-04-29'), (0.95, '2017-04-29'), (6.25, '2017-04-29'), (0.37, '2017-04-29'), (0.0, '2017-04-29'), (0.89, '2017-04-30'), (1.21, '2017-04-30'), (1.17, '2017-04-30'), (1.31, '2017-04-30'), (1.04, '2017-04-30'), (0.8, '2017-04-30'), (0.26, '2017-05-01'), (0.07, '2017-05-01'), (0.03, '2017-05-01'), (0.07, '2017-05-01'), (0.13, '2017-05-01'), (0.25, '2017-05-01'), (0.0, '2017-05-02'), (0.03, '2017-05-02'), (0.01, '2017-05-02'), (0.0, '2017-05-02'), (0.01, '2017-05-02'), (0.0, '2017-05-02'), (0.0, '2017-05-03'), (0.01, '2017-05-03'), (0.01, '2017-05-03'), (0.0, '2017-05-03'), (0.01, '2017-05-03'), (0.0, '2017-05-04'), (0.0, '2017-05-04'), (0.08, '2017-05-04'), (0.0, '2017-05-04'), (0.0, '2017-05-04'), (None, '2017-05-04'), (0.0, '2017-05-05'), (0.0, '2017-05-05'), (0.28, '2017-05-05'), (0.0, '2017-05-05'), (0.0, '2017-05-05'), (0.1, '2017-05-05'), (0.0, '2017-05-06'), (0.0, '2017-05-06'), (0.06, '2017-05-06'), (0.0, '2017-05-06'), (0.0, '2017-05-06'), (0.0, '2017-05-06'), (0.0, '2017-05-07'), (0.07, '2017-05-07'), (0.0, '2017-05-07'), (0.02, '2017-05-07'), (0.03, '2017-05-07'), (0.0, '2017-05-08'), (0.22, '2017-05-08'), (0.95, '2017-05-08'), (0.0, '2017-05-08'), (0.73, '2017-05-08'), (1.11, '2017-05-08'), (1.62, '2017-05-09'), (0.52, '2017-05-09'), (0.68, '2017-05-09'), (1.58, '2017-05-09'), (0.23, '2017-05-09'), (0.0, '2017-05-10'), (0.05, '2017-05-10'), (0.0, '2017-05-10'), (0.06, '2017-05-10'), (0.2, '2017-05-10'), (0.55, '2017-05-10'), (0.01, '2017-05-11'), (0.03, '2017-05-11'), (0.0, '2017-05-11'), (0.12, '2017-05-11'), (0.44, '2017-05-11'), (0.0, '2017-05-12'), (0.04, '2017-05-12'), (None, '2017-05-12'), (0.0, '2017-05-12'), (0.02, '2017-05-12'), (0.1, '2017-05-12'), (0.0, '2017-05-13'), (0.02, '2017-05-13'), (0.0, '2017-05-13'), (0.12, '2017-05-13'), (0.1, '2017-05-13'), (0.0, '2017-05-14'), (0.05, '2017-05-14'), (0.0, '2017-05-14'), (0.17, '2017-05-14'), (1.0, '2017-05-14'), (0.05, '2017-05-15'), (0.08, '2017-05-15'), (None, '2017-05-15'), (0.06, '2017-05-15'), (0.09, '2017-05-15'), (0.6, '2017-05-15'), (0.01, '2017-05-16'), (0.03, '2017-05-16'), (0.05, '2017-05-16'), (0.0, '2017-05-16'), (0.03, '2017-05-16'), (0.3, '2017-05-16'), (0.0, '2017-05-17'), (0.02, '2017-05-17'), (0.0, '2017-05-17'), (0.0, '2017-05-17'), (0.07, '2017-05-17'), (0.06, '2017-05-17'), (0.01, '2017-05-18'), (0.09, '2017-05-18'), (0.16, '2017-05-18'), (0.46, '2017-05-18'), (0.13, '2017-05-18'), (0.0, '2017-05-18'), (0.0, '2017-05-19'), (0.02, '2017-05-19'), (0.01, '2017-05-19'), (0.01, '2017-05-19'), (0.0, '2017-05-20'), (0.0, '2017-05-20'), (0.01, '2017-05-20'), (None, '2017-05-20'), (0.02, '2017-05-20'), (None, '2017-05-20'), (0.0, '2017-05-21'), (0.0, '2017-05-21'), (0.0, '2017-05-21'), (0.01, '2017-05-21'), (0.0, '2017-05-21'), (0.0, '2017-05-22'), (0.0, '2017-05-22'), (None, '2017-05-22'), (0.0, '2017-05-22'), (0.06, '2017-05-22'), (0.3, '2017-05-22'), (0.08, '2017-05-23'), (0.02, '2017-05-23'), (0.11, '2017-05-23'), (0.0, '2017-05-23'), (0.06, '2017-05-23'), (0.44, '2017-05-23'), (0.13, '2017-05-24'), (0.58, '2017-05-24'), (0.1, '2017-05-24'), (0.61, '2017-05-24'), (0.3, '2017-05-24'), (2.17, '2017-05-24'), (0.15, '2017-05-25'), (0.37, '2017-05-25'), (0.07, '2017-05-25'), (0.55, '2017-05-25'), (0.2, '2017-05-25'), (0.88, '2017-05-25'), (0.02, '2017-05-26'), (0.0, '2017-05-26'), (0.0, '2017-05-26'), (0.0, '2017-05-26'), (0.0, '2017-05-26'), (0.01, '2017-05-27'), (0.0, '2017-05-27'), (0.0, '2017-05-27'), (0.0, '2017-05-27'), (0.0, '2017-05-27'), (0.5, '2017-05-27'), (0.02, '2017-05-28'), (0.29, '2017-05-28'), (0.02, '2017-05-28'), (0.0, '2017-05-28'), (0.08, '2017-05-28'), (0.0, '2017-05-28'), (0.0, '2017-05-29'), (0.02, '2017-05-29'), (0.0, '2017-05-29'), (0.0, '2017-05-29'), (0.4, '2017-05-29'), (0.26, '2017-05-30'), (0.2, '2017-05-30'), (0.04, '2017-05-30'), (0.11, '2017-05-30'), (1.12, '2017-05-30'), (None, '2017-05-30'), (0.02, '2017-05-31'), (0.1, '2017-05-31'), (0.0, '2017-05-31'), (0.0, '2017-05-31'), (0.25, '2017-05-31'), (0.0, '2017-06-01'), (0.03, '2017-06-01'), (0.0, '2017-06-01'), (0.0, '2017-06-01'), (0.0, '2017-06-01'), (0.01, '2017-06-01'), (0.0, '2017-06-02'), (0.1, '2017-06-02'), (0.15, '2017-06-02'), (None, '2017-06-02'), (0.0, '2017-06-02'), (0.09, '2017-06-02'), (0.02, '2017-06-03'), (0.2, '2017-06-03'), (0.16, '2017-06-03'), (0.15, '2017-06-03'), (0.08, '2017-06-03'), (None, '2017-06-03'), (0.0, '2017-06-04'), (0.15, '2017-06-04'), (0.05, '2017-06-04'), (0.0, '2017-06-04'), (0.13, '2017-06-04'), (0.82, '2017-06-04'), (0.0, '2017-06-05'), (0.0, '2017-06-05'), (0.02, '2017-06-05'), (None, '2017-06-05'), (0.0, '2017-06-05'), (0.05, '2017-06-05'), (0.01, '2017-06-05'), (0.0, '2017-06-06'), (0.0, '2017-06-06'), (0.0, '2017-06-06'), (None, '2017-06-06'), (0.0, '2017-06-06'), (0.0, '2017-06-06'), (0.0, '2017-06-06'), (0.0, '2017-06-07'), (0.0, '2017-06-07'), (0.0, '2017-06-07'), (None, '2017-06-07'), (0.0, '2017-06-07'), (0.0, '2017-06-07'), (0.01, '2017-06-07'), (0.0, '2017-06-08'), (0.02, '2017-06-08'), (0.01, '2017-06-08'), (None, '2017-06-08'), (0.0, '2017-06-08'), (0.0, '2017-06-08'), (0.0, '2017-06-08'), (0.0, '2017-06-09'), (0.02, '2017-06-09'), (0.0, '2017-06-09'), (None, '2017-06-09'), (0.0, '2017-06-09'), (0.02, '2017-06-09'), (0.04, '2017-06-10'), (0.21, '2017-06-10'), (0.53, '2017-06-10'), (0.13, '2017-06-10'), (0.62, '2017-06-10'), (None, '2017-06-10'), (0.08, '2017-06-11'), (0.24, '2017-06-11'), (0.14, '2017-06-11'), (0.25, '2017-06-11'), (0.74, '2017-06-11'), (0.7, '2017-06-11'), (0.02, '2017-06-12'), (0.19, '2017-06-12'), (0.35, '2017-06-12'), (0.14, '2017-06-12'), (0.24, '2017-06-12'), (0.81, '2017-06-12'), (0.0, '2017-06-13'), (0.36, '2017-06-13'), (0.1, '2017-06-13'), (None, '2017-06-13'), (0.03, '2017-06-13'), (0.24, '2017-06-13'), (0.65, '2017-06-13'), (0.0, '2017-06-14'), (0.27, '2017-06-14'), (0.21, '2017-06-14'), (None, '2017-06-14'), (0.06, '2017-06-14'), (0.22, '2017-06-14'), (0.81, '2017-06-14'), (0.0, '2017-06-15'), (0.17, '2017-06-15'), (0.3, '2017-06-15'), (None, '2017-06-15'), (0.0, '2017-06-15'), (0.55, '2017-06-15'), (1.69, '2017-06-15'), (0.0, '2017-06-16'), (0.02, '2017-06-16'), (0.02, '2017-06-16'), (None, '2017-06-16'), (0.0, '2017-06-16'), (0.06, '2017-06-16'), (0.1, '2017-06-16'), (0.0, '2017-06-17'), (0.35, '2017-06-17'), (0.02, '2017-06-17'), (0.0, '2017-06-17'), (0.07, '2017-06-17'), (0.1, '2017-06-17'), (0.05, '2017-06-18'), (0.25, '2017-06-18'), (0.18, '2017-06-18'), (0.0, '2017-06-18'), (0.24, '2017-06-18'), (0.7, '2017-06-18'), (0.0, '2017-06-19'), (0.05, '2017-06-19'), (0.19, '2017-06-19'), (None, '2017-06-19'), (0.01, '2017-06-19'), (0.08, '2017-06-19'), (0.4, '2017-06-19'), (0.02, '2017-06-20'), (0.05, '2017-06-20'), (0.17, '2017-06-20'), (None, '2017-06-20'), (0.0, '2017-06-20'), (0.31, '2017-06-20'), (0.0, '2017-06-21'), (0.02, '2017-06-21'), (None, '2017-06-21'), (None, '2017-06-21'), (0.19, '2017-06-21'), (0.3, '2017-06-21'), (0.0, '2017-06-22'), (0.1, '2017-06-22'), (0.0, '2017-06-22'), (0.0, '2017-06-22'), (0.06, '2017-06-22'), (0.28, '2017-06-22'), (0.0, '2017-06-23'), (0.0, '2017-06-23'), (None, '2017-06-23'), (0.0, '2017-06-23'), (0.05, '2017-06-23'), (0.12, '2017-06-23'), (0.5, '2017-06-23'), (0.06, '2017-06-24'), (0.0, '2017-06-24'), (0.0, '2017-06-24'), (0.36, '2017-06-24'), (0.22, '2017-06-24'), (0.0, '2017-06-25'), (0.08, '2017-06-25'), (0.0, '2017-06-25'), (0.02, '2017-06-25'), (0.5, '2017-06-25'), (0.0, '2017-06-26'), (0.02, '2017-06-26'), (None, '2017-06-26'), (None, '2017-06-26'), (0.0, '2017-06-26'), (0.06, '2017-06-26'), (0.02, '2017-06-26'), (0.0, '2017-06-27'), (0.0, '2017-06-27'), (0.0, '2017-06-27'), (0.0, '2017-06-27'), (0.01, '2017-06-27'), (0.1, '2017-06-27'), (0.0, '2017-06-28'), (0.01, '2017-06-28'), (0.0, '2017-06-28'), (0.0, '2017-06-28'), (0.0, '2017-06-28'), (0.02, '2017-06-28'), (0.0, '2017-06-29'), (0.03, '2017-06-29'), (None, '2017-06-29'), (0.0, '2017-06-29'), (0.0, '2017-06-29'), (0.0, '2017-06-29'), (0.04, '2017-06-29'), (0.08, '2017-06-30'), (0.04, '2017-06-30'), (0.0, '2017-06-30'), (0.12, '2017-06-30'), (0.07, '2017-06-30'), (0.01, '2017-06-30'), (0.2, '2017-06-30'), (0.02, '2017-07-01'), (0.06, '2017-07-01'), (0.08, '2017-07-01'), (0.1, '2017-07-01'), (0.02, '2017-07-02'), (0.05, '2017-07-02'), (None, '2017-07-02'), (0.15, '2017-07-02'), (0.5, '2017-07-02'), (0.04, '2017-07-03'), (0.13, '2017-07-03'), (None, '2017-07-03'), (None, '2017-07-03'), (0.02, '2017-07-03'), (0.15, '2017-07-03'), (0.4, '2017-07-03'), (0.04, '2017-07-04'), (0.03, '2017-07-04'), (0.08, '2017-07-04'), (0.0, '2017-07-04'), (0.0, '2017-07-05'), (0.0, '2017-07-05'), (None, '2017-07-05'), (None, '2017-07-05'), (None, '2017-07-05'), (0.0, '2017-07-05'), (0.0, '2017-07-05'), (0.0, '2017-07-06'), (0.0, '2017-07-06'), (None, '2017-07-06'), (0.0, '2017-07-06'), (0.0, '2017-07-06'), (0.02, '2017-07-06'), (0.0, '2017-07-07'), (0.02, '2017-07-07'), (None, '2017-07-07'), (None, '2017-07-07'), (0.0, '2017-07-07'), (0.18, '2017-07-07'), (0.3, '2017-07-07'), (0.0, '2017-07-08'), (0.02, '2017-07-08'), (0.06, '2017-07-08'), (0.0, '2017-07-08'), (0.0, '2017-07-08'), (0.02, '2017-07-08'), (0.0, '2017-07-09'), (0.09, '2017-07-09'), (0.0, '2017-07-09'), (0.0, '2017-07-09'), (0.11, '2017-07-09'), (0.0, '2017-07-09'), (0.0, '2017-07-10'), (0.0, '2017-07-10'), (0.0, '2017-07-10'), (None, '2017-07-10'), (0.0, '2017-07-10'), (0.02, '2017-07-10'), (0.02, '2017-07-10'), (0.0, '2017-07-11'), (0.01, '2017-07-11'), (0.0, '2017-07-11'), (None, '2017-07-11'), (0.0, '2017-07-11'), (0.02, '2017-07-11'), (0.0, '2017-07-11'), (0.0, '2017-07-12'), (0.01, '2017-07-12'), (0.02, '2017-07-12'), (None, '2017-07-12'), (0.0, '2017-07-12'), (0.28, '2017-07-12'), (0.05, '2017-07-12'), (0.07, '2017-07-13'), (0.33, '2017-07-13'), (0.3, '2017-07-13'), (None, '2017-07-13'), (0.11, '2017-07-13'), (0.32, '2017-07-13'), (0.68, '2017-07-13'), (0.02, '2017-07-14'), (0.05, '2017-07-14'), (0.0, '2017-07-14'), (0.0, '2017-07-14'), (0.2, '2017-07-14'), (0.68, '2017-07-14'), (0.0, '2017-07-15'), (0.03, '2017-07-15'), (0.01, '2017-07-15'), (0.0, '2017-07-15'), (0.05, '2017-07-15'), (0.1, '2017-07-15'), (0.02, '2017-07-16'), (0.07, '2017-07-16'), (0.12, '2017-07-16'), (0.0, '2017-07-16'), (0.1, '2017-07-16'), (0.5, '2017-07-16'), (0.03, '2017-07-17'), (0.12, '2017-07-17'), (0.16, '2017-07-17'), (0.0, '2017-07-17'), (0.21, '2017-07-17'), (0.39, '2017-07-17'), (0.05, '2017-07-18'), (0.03, '2017-07-18'), (0.0, '2017-07-18'), (0.0, '2017-07-18'), (0.0, '2017-07-18'), (0.05, '2017-07-18'), (2.4, '2017-07-18'), (0.0, '2017-07-19'), (0.09, '2017-07-19'), (0.0, '2017-07-19'), (0.0, '2017-07-19'), (0.05, '2017-07-19'), (0.27, '2017-07-19'), (0.03, '2017-07-20'), (0.12, '2017-07-20'), (0.0, '2017-07-20'), (0.0, '2017-07-20'), (0.33, '2017-07-20'), (0.06, '2017-07-20'), (0.7, '2017-07-20'), (0.0, '2017-07-21'), (0.0, '2017-07-21'), (0.0, '2017-07-21'), (0.0, '2017-07-21'), (0.0, '2017-07-21'), (0.03, '2017-07-21'), (0.1, '2017-07-21'), (0.03, '2017-07-22'), (0.07, '2017-07-22'), (0.12, '2017-07-22'), (0.0, '2017-07-22'), (0.2, '2017-07-22'), (4.0, '2017-07-22'), (0.0, '2017-07-23'), (0.06, '2017-07-23'), (0.07, '2017-07-23'), (0.2, '2017-07-23'), (0.8, '2017-07-23'), (0.05, '2017-07-24'), (0.58, '2017-07-24'), (1.19, '2017-07-24'), (None, '2017-07-24'), (0.61, '2017-07-24'), (0.84, '2017-07-24'), (0.0, '2017-07-25'), (0.03, '2017-07-25'), (0.12, '2017-07-25'), (0.0, '2017-07-25'), (0.05, '2017-07-25'), (0.11, '2017-07-25'), (0.3, '2017-07-25'), (0.0, '2017-07-26'), (0.06, '2017-07-26'), (0.02, '2017-07-26'), (None, '2017-07-26'), (0.0, '2017-07-26'), (0.12, '2017-07-26'), (0.3, '2017-07-26'), (0.0, '2017-07-27'), (0.0, '2017-07-27'), (0.0, '2017-07-27'), (None, '2017-07-27'), (0.0, '2017-07-27'), (0.01, '2017-07-27'), (0.0, '2017-07-27'), (0.0, '2017-07-28'), (0.13, '2017-07-28'), (0.14, '2017-07-28'), (0.01, '2017-07-28'), (0.0, '2017-07-28'), (0.09, '2017-07-28'), (0.4, '2017-07-28'), (0.0, '2017-07-29'), (0.06, '2017-07-29'), (0.02, '2017-07-29'), (0.0, '2017-07-29'), (0.23, '2017-07-29'), (0.3, '2017-07-29'), (0.0, '2017-07-30'), (0.0, '2017-07-30'), (0.0, '2017-07-30'), (0.0, '2017-07-30'), (0.3, '2017-07-30'), (0.0, '2017-07-31'), (0.0, '2017-07-31'), (None, '2017-07-31'), (None, '2017-07-31'), (0.0, '2017-07-31'), (0.0, '2017-07-31'), (0.0, '2017-07-31'), (0.02, '2017-08-01'), (0.12, '2017-08-01'), (0.0, '2017-08-01'), (None, '2017-08-01'), (0.0, '2017-08-02'), (0.05, '2017-08-02'), (0.0, '2017-08-02'), (0.25, '2017-08-02'), (0.0, '2017-08-03'), (0.01, '2017-08-03'), (0.0, '2017-08-03'), (0.06, '2017-08-03'), (0.02, '2017-08-04'), (0.04, '2017-08-04'), (0.0, '2017-08-04'), (0.0, '2017-08-04'), (0.0, '2017-08-05'), (0.06, '2017-08-05'), (None, '2017-08-05'), (0.0, '2017-08-06'), (0.0, '2017-08-06'), (0.0, '2017-08-06'), (0.0, '2017-08-06'), (None, '2017-08-06'), (0.0, '2017-08-07'), (0.0, '2017-08-07'), (0.0, '2017-08-07'), (0.05, '2017-08-07'), (0.0, '2017-08-08'), (0.1, '2017-08-08'), (0.0, '2017-08-08'), (0.34, '2017-08-08'), (0.0, '2017-08-09'), (0.0, '2017-08-09'), (0.15, '2017-08-09'), (0.0, '2017-08-10'), (0.0, '2017-08-10'), (0.0, '2017-08-10'), (0.07, '2017-08-10'), (0.0, '2017-08-11'), (0.0, '2017-08-11'), (0.0, '2017-08-11'), (None, '2017-08-11'), (0.0, '2017-08-12'), (0.0, '2017-08-12'), (0.14, '2017-08-12'), (0.0, '2017-08-13'), (None, '2017-08-13'), (0.0, '2017-08-13'), (0.0, '2017-08-13'), (None, '2017-08-13'), (0.0, '2017-08-14'), (0.01, '2017-08-14'), (0.08, '2017-08-14'), (0.0, '2017-08-14'), (0.22, '2017-08-14'), (0.02, '2017-08-15'), (0.0, '2017-08-15'), (0.06, '2017-08-15'), (0.32, '2017-08-15'), (0.42, '2017-08-15'), (0.0, '2017-08-16'), (0.07, '2017-08-16'), (0.12, '2017-08-16'), (0.42, '2017-08-16'), (0.0, '2017-08-17'), (0.05, '2017-08-17'), (0.01, '2017-08-17'), (0.13, '2017-08-17'), (0.0, '2017-08-18'), (0.0, '2017-08-18'), (0.06, '2017-08-18'), (None, '2017-08-18'), (0.0, '2017-08-19'), (0.0, '2017-08-19'), (None, '2017-08-19'), (0.09, '2017-08-19'), (0.0, '2017-08-20'), (0.01, '2017-08-20'), (None, '2017-08-20'), (0.0, '2017-08-21'), (0.02, '2017-08-21'), (None, '2017-08-21'), (0.56, '2017-08-21'), (0.0, '2017-08-22'), (0.0, '2017-08-22'), (0.5, '2017-08-22'), (0.0, '2017-08-23'), (0.0, '2017-08-23'), (0.08, '2017-08-23'), (0.45, '2017-08-23')]\n"
     ]
    }
   ],
   "source": [
    "# Perform a query to retrieve the data and precipitation scores\n",
    "\n",
    "precipatation = session.query(Measurement.prcp, Measurement.date).\\\n",
    "    filter(Measurement.date > '2016-08-23').\\\n",
    "    order_by(Measurement.date).all()\n",
    "print(precipatation)"
   ]
  },
  {
   "cell_type": "code",
   "execution_count": 23,
   "metadata": {},
   "outputs": [
    {
     "data": {
      "text/html": [
       "<div>\n",
       "<style scoped>\n",
       "    .dataframe tbody tr th:only-of-type {\n",
       "        vertical-align: middle;\n",
       "    }\n",
       "\n",
       "    .dataframe tbody tr th {\n",
       "        vertical-align: top;\n",
       "    }\n",
       "\n",
       "    .dataframe thead th {\n",
       "        text-align: right;\n",
       "    }\n",
       "</style>\n",
       "<table border=\"1\" class=\"dataframe\">\n",
       "  <thead>\n",
       "    <tr style=\"text-align: right;\">\n",
       "      <th></th>\n",
       "      <th>precipitation</th>\n",
       "    </tr>\n",
       "    <tr>\n",
       "      <th>date</th>\n",
       "      <th></th>\n",
       "    </tr>\n",
       "  </thead>\n",
       "  <tbody>\n",
       "    <tr>\n",
       "      <th>2016-08-24</th>\n",
       "      <td>0.08</td>\n",
       "    </tr>\n",
       "    <tr>\n",
       "      <th>2016-08-24</th>\n",
       "      <td>2.15</td>\n",
       "    </tr>\n",
       "    <tr>\n",
       "      <th>2016-08-24</th>\n",
       "      <td>2.28</td>\n",
       "    </tr>\n",
       "    <tr>\n",
       "      <th>2016-08-24</th>\n",
       "      <td>NaN</td>\n",
       "    </tr>\n",
       "    <tr>\n",
       "      <th>2016-08-24</th>\n",
       "      <td>1.22</td>\n",
       "    </tr>\n",
       "    <tr>\n",
       "      <th>2016-08-24</th>\n",
       "      <td>2.15</td>\n",
       "    </tr>\n",
       "    <tr>\n",
       "      <th>2016-08-24</th>\n",
       "      <td>1.45</td>\n",
       "    </tr>\n",
       "    <tr>\n",
       "      <th>2016-08-25</th>\n",
       "      <td>0.08</td>\n",
       "    </tr>\n",
       "    <tr>\n",
       "      <th>2016-08-25</th>\n",
       "      <td>0.08</td>\n",
       "    </tr>\n",
       "    <tr>\n",
       "      <th>2016-08-25</th>\n",
       "      <td>0.00</td>\n",
       "    </tr>\n",
       "    <tr>\n",
       "      <th>2016-08-25</th>\n",
       "      <td>0.00</td>\n",
       "    </tr>\n",
       "    <tr>\n",
       "      <th>2016-08-25</th>\n",
       "      <td>0.21</td>\n",
       "    </tr>\n",
       "    <tr>\n",
       "      <th>2016-08-25</th>\n",
       "      <td>0.06</td>\n",
       "    </tr>\n",
       "    <tr>\n",
       "      <th>2016-08-25</th>\n",
       "      <td>0.11</td>\n",
       "    </tr>\n",
       "    <tr>\n",
       "      <th>2016-08-26</th>\n",
       "      <td>0.00</td>\n",
       "    </tr>\n",
       "  </tbody>\n",
       "</table>\n",
       "</div>"
      ],
      "text/plain": [
       "            precipitation\n",
       "date                     \n",
       "2016-08-24           0.08\n",
       "2016-08-24           2.15\n",
       "2016-08-24           2.28\n",
       "2016-08-24            NaN\n",
       "2016-08-24           1.22\n",
       "2016-08-24           2.15\n",
       "2016-08-24           1.45\n",
       "2016-08-25           0.08\n",
       "2016-08-25           0.08\n",
       "2016-08-25           0.00\n",
       "2016-08-25           0.00\n",
       "2016-08-25           0.21\n",
       "2016-08-25           0.06\n",
       "2016-08-25           0.11\n",
       "2016-08-26           0.00"
      ]
     },
     "execution_count": 23,
     "metadata": {},
     "output_type": "execute_result"
    }
   ],
   "source": [
    "# Save the query results as a Pandas DataFrame and set the index to the date column\n",
    "# Sort the dataframe by date\n",
    "\n",
    "df = pd.DataFrame(precipatation, columns=['precipitation','date'])\n",
    "df.set_index('date', inplace=True, )\n",
    "df.head(15)"
   ]
  },
  {
   "cell_type": "code",
   "execution_count": 38,
   "metadata": {},
   "outputs": [
    {
     "data": {
      "image/png": "[encoded data removed]",
      "text/plain": [
       "<Figure size 432x288 with 1 Axes>"
      ]
     },
     "metadata": {},
     "output_type": "display_data"
    },
    {
     "data": {
      "text/plain": [
       "<Figure size 720x576 with 0 Axes>"
      ]
     },
     "metadata": {},
     "output_type": "display_data"
    }
   ],
   "source": [
    "# Use Pandas Plotting with Matplotlib to plot the data\n",
    "\n",
    "df.iloc[::-1].plot.bar(title=\"Rainfall\")\n",
    "plt.xticks([])\n",
    "plt.tight_layout()\n",
    "plt.figure(figsize=(10,8))\n",
    "plt.show()"
   ]
  },
  {
   "cell_type": "code",
   "execution_count": 30,
   "metadata": {},
   "outputs": [
    {
     "data": {
      "text/html": [
       "<div>\n",
       "<style scoped>\n",
       "    .dataframe tbody tr th:only-of-type {\n",
       "        vertical-align: middle;\n",
       "    }\n",
       "\n",
       "    .dataframe tbody tr th {\n",
       "        vertical-align: top;\n",
       "    }\n",
       "\n",
       "    .dataframe thead th {\n",
       "        text-align: right;\n",
       "    }\n",
       "</style>\n",
       "<table border=\"1\" class=\"dataframe\">\n",
       "  <thead>\n",
       "    <tr style=\"text-align: right;\">\n",
       "      <th></th>\n",
       "      <th>precipitation</th>\n",
       "    </tr>\n",
       "  </thead>\n",
       "  <tbody>\n",
       "    <tr>\n",
       "      <th>count</th>\n",
       "      <td>2015.000000</td>\n",
       "    </tr>\n",
       "    <tr>\n",
       "      <th>mean</th>\n",
       "      <td>0.176462</td>\n",
       "    </tr>\n",
       "    <tr>\n",
       "      <th>std</th>\n",
       "      <td>0.460288</td>\n",
       "    </tr>\n",
       "    <tr>\n",
       "      <th>min</th>\n",
       "      <td>0.000000</td>\n",
       "    </tr>\n",
       "    <tr>\n",
       "      <th>25%</th>\n",
       "      <td>0.000000</td>\n",
       "    </tr>\n",
       "    <tr>\n",
       "      <th>50%</th>\n",
       "      <td>0.020000</td>\n",
       "    </tr>\n",
       "    <tr>\n",
       "      <th>75%</th>\n",
       "      <td>0.130000</td>\n",
       "    </tr>\n",
       "    <tr>\n",
       "      <th>max</th>\n",
       "      <td>6.700000</td>\n",
       "    </tr>\n",
       "  </tbody>\n",
       "</table>\n",
       "</div>"
      ],
      "text/plain": [
       "       precipitation\n",
       "count    2015.000000\n",
       "mean        0.176462\n",
       "std         0.460288\n",
       "min         0.000000\n",
       "25%         0.000000\n",
       "50%         0.020000\n",
       "75%         0.130000\n",
       "max         6.700000"
      ]
     },
     "execution_count": 30,
     "metadata": {},
     "output_type": "execute_result"
    }
   ],
   "source": [
    "# Use Pandas to calcualte the summary statistics for the precipitation data\n",
    "df.describe()"
   ]
  },
  {
   "cell_type": "code",
   "execution_count": 31,
   "metadata": {},
   "outputs": [
    {
     "name": "stdout",
     "output_type": "stream",
     "text": [
      "9\n"
     ]
    }
   ],
   "source": [
    "# Design a query to show how many stations are available in this dataset?\n",
    "station_count = session.query(Station.station).count()\n",
    "print(station_count)"
   ]
  },
  {
   "cell_type": "code",
   "execution_count": 32,
   "metadata": {},
   "outputs": [
    {
     "name": "stdout",
     "output_type": "stream",
     "text": [
      "('USC00519281', 2772)\n",
      "('USC00519397', 2724)\n",
      "('USC00513117', 2709)\n",
      "('USC00519523', 2669)\n",
      "('USC00516128', 2612)\n",
      "('USC00514830', 2202)\n",
      "('USC00511918', 1979)\n",
      "('USC00517948', 1372)\n",
      "('USC00518838', 511)\n"
     ]
    }
   ],
   "source": [
    "# What are the most active stations? (i.e. what stations have the most rows)?\n",
    "# List the stations and the counts in descending order.\n",
    "\n",
    "x = session.query(Measurement.station.label(\"Station\"), \n",
    "                                            func.count(Measurement.station).label(\"Count\"))\n",
    "y = x.group_by(Measurement.station).order_by(func.count(Measurement.station).desc())\n",
    "\n",
    "for z in y.all():\n",
    "        print(z)"
   ]
  },
  {
   "cell_type": "code",
   "execution_count": 33,
   "metadata": {},
   "outputs": [
    {
     "name": "stdout",
     "output_type": "stream",
     "text": [
      "('USC00519281', 54.0, 85.0, 71.66378066378067)\n"
     ]
    }
   ],
   "source": [
    "temp = session.query(Measurement.station.label(\"Station\"), \n",
    "        func.min(Measurement.tobs).label(\"Low\"),\n",
    "        func.max(Measurement.tobs).label(\"High\"),\n",
    "        func.avg(Measurement.tobs).label(\"Average\"))\n",
    "qry = temp.filter(Measurement.station == ('USC00519281'))\n",
    "for _res in qry.all():\n",
    "    print(_res)"
   ]
  },
  {
   "cell_type": "code",
   "execution_count": 37,
   "metadata": {},
   "outputs": [
    {
     "data": {
      "image/png": "[encoded data removed]",
      "text/plain": [
       "<Figure size 720x576 with 1 Axes>"
      ]
     },
     "metadata": {},
     "output_type": "display_data"
    }
   ],
   "source": [
    "# Choose the station with the highest number of temperature observations.\n",
    "# Query the last 12 months of temperature observation data for this station and plot the results as a histogram\n",
    "import seaborn as sns\n",
    "# get temps and counts of occurence\n",
    "temps = session.query(Measurement.tobs).\\\n",
    "    filter(Measurement.date > '2016-08-23').\\\n",
    "    filter(Measurement.station == 'USC00519281').all()\n",
    "\n",
    "#set the plot size\n",
    "plt.figure(figsize=(10,8))\n",
    "\n",
    "#plot the results as a histogram with bins=12\n",
    "yr_tobs_hist = sns.distplot(temps, bins=12, kde=False, axlabel='Temperature (F)', label='tobs', color='green')\n",
    "\n",
    "#label the y axis\n",
    "yr_tobs_hist.set(ylabel='Frequency')\n",
    "\n",
    "plt.legend()\n",
    "plt.show()"
   ]
  },
  {
   "cell_type": "code",
   "execution_count": null,
   "metadata": {},
   "outputs": [],
   "source": []
  }
 ],
 "metadata": {
  "kernel_info": {
   "name": "python3"
  },
  "kernelspec": {
   "display_name": "Python 3",
   "language": "python",
   "name": "python3"
  },
  "language_info": {
   "codemirror_mode": {
    "name": "ipython",
    "version": 3
   },
   "file_extension": ".py",
   "mimetype": "text/x-python",
   "name": "python",
   "nbconvert_exporter": "python",
   "pygments_lexer": "ipython3",
   "version": "3.7.1"
  },
  "nteract": {
   "version": "0.9.1"
  },
  "varInspector": {
   "cols": {
    "lenName": 16,
    "lenType": 16,
    "lenVar": 40
   },
   "kernels_config": {
    "python": {
     "delete_cmd_postfix": "",
     "delete_cmd_prefix": "del ",
     "library": "var_list.py",
     "varRefreshCmd": "print(var_dic_list())"
    },
    "r": {
     "delete_cmd_postfix": ") ",
     "delete_cmd_prefix": "rm(",
     "library": "var_list.r",
     "varRefreshCmd": "cat(var_dic_list()) "
    }
   },
   "types_to_exclude": [
    "module",
    "function",
    "builtin_function_or_method",
    "instance",
    "_Feature"
   ],
   "window_display": false
  }
 },
 "nbformat": 4,
 "nbformat_minor": 2
}
